{
 "cells": [
  {
   "cell_type": "markdown",
   "id": "c1779727",
   "metadata": {},
   "source": [
    "## Mistral Small"
   ]
  },
  {
   "cell_type": "code",
   "execution_count": 5,
   "id": "d6c0ac94",
   "metadata": {},
   "outputs": [
    {
     "name": "stdout",
     "output_type": "stream",
     "text": [
      "Choosing the \"best\" French cheese can be subjective and depends on personal taste, as France offers a wide variety of exceptional cheeses. However, some French cheeses are world-renowned for their unique flavors and qualities. Here are a few notable ones:\n",
      "\n",
      "1. **Camembert de Normandie**: A soft, creamy cheese from the Normandy region, famous for its rich, buttery flavor.\n",
      "\n",
      "2. **Brie de Meaux**: Often referred to as the \"King of Cheeses,\" this soft cheese from the Île-de-France region is known for its velvety texture and complex flavors.\n",
      "\n",
      "3. **Roquefort**: A blue cheese from the south of France, made from sheep's milk. It has a strong, tangy flavor and is often enjoyed with sweet accompaniments like honey or fruit.\n",
      "\n",
      "4. **Comté**: A hard cheese made from unpasteurized cow's milk in the Franche-Comté region. It has a nutty, slightly sweet flavor that varies with age.\n",
      "\n",
      "5. **Reblochon**: A soft washed-rind and smear-ripened cheese from the Alps. It has a mild, nutty flavor and is often used in the traditional dish Tartiflette.\n",
      "\n",
      "6. **Époisses**: A pungent, washed-rind cheese from Burgundy. It has a strong, salty flavor and a creamy, spreadable texture.\n",
      "\n",
      "Each of these cheeses has its own unique characteristics and is beloved for different reasons. The \"best\" one ultimately depends on your personal preferences.\n"
     ]
    }
   ],
   "source": [
    "import os\n",
    "from mistralai import Mistral\n",
    "\n",
    "api_key = 'eSsMQlsfeVYBuYIhhytyvJZg5TkmU2JU'\n",
    "model = \"mistral-large-latest\"\n",
    "\n",
    "client = Mistral(api_key=api_key)\n",
    "\n",
    "chat_response = client.chat.complete(\n",
    "    model= model,\n",
    "    messages = [\n",
    "        {\n",
    "            \"role\": \"user\",\n",
    "            \"content\": \"What is the best French cheese?\",\n",
    "        },\n",
    "    ]\n",
    ")\n",
    "print(chat_response.choices[0].message.content)"
   ]
  }
 ],
 "metadata": {
  "kernelspec": {
   "display_name": "venv",
   "language": "python",
   "name": "python3"
  },
  "language_info": {
   "codemirror_mode": {
    "name": "ipython",
    "version": 3
   },
   "file_extension": ".py",
   "mimetype": "text/x-python",
   "name": "python",
   "nbconvert_exporter": "python",
   "pygments_lexer": "ipython3",
   "version": "3.12.10"
  }
 },
 "nbformat": 4,
 "nbformat_minor": 5
}
